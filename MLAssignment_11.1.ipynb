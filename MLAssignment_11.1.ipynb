{
 "cells": [
  {
   "cell_type": "markdown",
   "metadata": {},
   "source": [
    "1. What are the three stages to build the hypotheses or model in machine learning?\n"
   ]
  },
  {
   "cell_type": "raw",
   "metadata": {},
   "source": [
    "There are three stages to build the hypothesis or model in machine learning:\n",
    "\n",
    "1. Build the model  - select the algorithm\n",
    "2. Test the model - compare alternatives, score models\n",
    "3. Apply the model - apply model to new data, monitor outcomes, improve model"
   ]
  },
  {
   "cell_type": "markdown",
   "metadata": {},
   "source": [
    "2. What is the standard approach to supervised learning?\n"
   ]
  },
  {
   "cell_type": "raw",
   "metadata": {},
   "source": [
    "The standard approach to supervised learning is to split the set of example into the training set and the test."
   ]
  },
  {
   "cell_type": "markdown",
   "metadata": {},
   "source": [
    "3. What is Training set and Test set?"
   ]
  },
  {
   "cell_type": "raw",
   "metadata": {},
   "source": [
    "Training Set: \n",
    "\n",
    "In Machine Learning, a training set is a dataset used to train a model. In training the model, specific features are picked out from the training set. These features are then incorporated into the model. Thereby, if the training set is labeled correctly, the model should be able to learn something from these features."
   ]
  },
  {
   "cell_type": "raw",
   "metadata": {},
   "source": [
    "Test Set: \n",
    "\n",
    "The test set is a dataset used to measure how well the model performs at making predictions on that test set. If the prediction scores for the test set are unreasonable, we’ll have to make some adjustments to our model and try again."
   ]
  },
  {
   "cell_type": "markdown",
   "metadata": {},
   "source": [
    "4. What is the general principle of an ensemble method and what is bagging and\n",
    "boosting in ensemble method?\n"
   ]
  },
  {
   "cell_type": "raw",
   "metadata": {},
   "source": [
    "General principle of ensemble method:\n",
    "\n",
    "Ensemble methods are meta-algorithms that combine several machine learning techniques into one predictive model in order to decrease variance (bagging), bias (boosting), or improve predictions (stacking).\n",
    "\n",
    "Bagging:\n",
    "\n",
    "Bagging builds multiple base models with resampled training data with replacement. This is also called bootstrap aggregating which is designed to improve stability and accuracy of machine learning algorithms used in statistical classification and regression.\n",
    "It can reduce errors by reducing the variance term.\n",
    "\n",
    "Boosting:\n",
    "\n",
    "Boosting is a machine learning ensemble meta-algorithm for primarily reducing bias, and also variance in supervised learning, and a family of machine learning algorithms that convert weak learners to strong ones. Boosting refers to a family of algorithms that are able to convert weak learners to strong learners. The main principle of boosting is to fit a sequence of weak learners− models that are only slightly better than random guessing, such as small decision trees− to weighted versions of the data. The predictions are then combined through a weighted majority vote (classification) or a weighted sum (regression) to produce the final prediction.\n"
   ]
  },
  {
   "cell_type": "markdown",
   "metadata": {},
   "source": [
    "5. How can you avoid overfitting ?"
   ]
  },
  {
   "cell_type": "raw",
   "metadata": {},
   "source": [
    "Overfitting can be avoided with help of following methods\n",
    "\n",
    "Cross-Validation - powerful preventative measure against overfitting. Cross-validation allows you to tune hyperparameters with only your original training set. This allows you to keep your test set as a truly unseen dataset for selecting your final model.\n",
    "\n",
    "Take more data - Can help algorithms detect the signal better\n",
    "\n",
    "Feature Selection - Some algorithms have built-in feature selection.For those that don’t, you can manually improve their generalizability by removing irrelevant input features.\n",
    "\n",
    "Regularization - Regularization refers to a broad range of techniques for artificially forcing your model to be simpler.The method will depend on the type of learner you’re using.For example, you could prune a decision tree,use dropout on a neural network, or add a penalty parameter to the cost function in regression.Oftentimes, the regularization method is a hyperparameter as well, which means it can be tuned through cross-validation.\n",
    "\n",
    "Pre-pruning - To stop the growing Decision tree before it is fully gone.\n",
    "\n",
    "Post-pruning - Allow the Decision tree to grow with no size limit. After tree completion, start pruning the tree."
   ]
  }
 ],
 "metadata": {
  "kernelspec": {
   "display_name": "Python 3",
   "language": "python",
   "name": "python3"
  },
  "language_info": {
   "codemirror_mode": {
    "name": "ipython",
    "version": 3
   },
   "file_extension": ".py",
   "mimetype": "text/x-python",
   "name": "python",
   "nbconvert_exporter": "python",
   "pygments_lexer": "ipython3",
   "version": "3.6.5"
  }
 },
 "nbformat": 4,
 "nbformat_minor": 2
}
